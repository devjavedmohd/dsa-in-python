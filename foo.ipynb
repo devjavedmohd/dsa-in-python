{
 "cells": [
  {
   "cell_type": "code",
   "execution_count": 3,
   "metadata": {},
   "outputs": [
    {
     "name": "stdout",
     "output_type": "stream",
     "text": [
      "Sum = 15 Product = 120\n"
     ]
    }
   ],
   "source": [
    "def foo(array):\n",
    "    sum = 0\n",
    "    product = 1\n",
    "\n",
    "    for i in array:\n",
    "        sum += i\n",
    "        product *= i\n",
    "\n",
    "    print(\"Sum = \" + str(sum) + \" Product = \" + str(product))\n",
    "\n",
    "\n",
    "array = [1, 2, 3, 4, 5]\n",
    "foo(array)\n"
   ]
  },
  {
   "cell_type": "code",
   "execution_count": 7,
   "metadata": {},
   "outputs": [
    {
     "name": "stdout",
     "output_type": "stream",
     "text": [
      "1,1\n",
      "1,2\n",
      "1,3\n",
      "1,4\n",
      "1,5\n",
      "2,1\n",
      "2,2\n",
      "2,3\n",
      "2,4\n",
      "2,5\n",
      "3,1\n",
      "3,2\n",
      "3,3\n",
      "3,4\n",
      "3,5\n",
      "4,1\n",
      "4,2\n",
      "4,3\n",
      "4,4\n",
      "4,5\n",
      "5,1\n",
      "5,2\n",
      "5,3\n",
      "5,4\n",
      "5,5\n"
     ]
    }
   ],
   "source": [
    "def printPairs(array):\n",
    "    for i in array:\n",
    "        for j in array:\n",
    "            print(str(i) + \",\" + str(j))\n",
    "printPairs([1,2,3,4,5])"
   ]
  },
  {
   "cell_type": "code",
   "execution_count": 12,
   "metadata": {},
   "outputs": [
    {
     "name": "stdout",
     "output_type": "stream",
     "text": [
      "dog,cat\n",
      "dog,fish\n",
      "cat,fish\n"
     ]
    }
   ],
   "source": [
    "def printUnorderedPairs(array):\n",
    "    for i in range(len(array)):\n",
    "        for j in range(i+1, len(array)):\n",
    "            print(array[i] + \",\" + array[j])\n",
    "# array = [1, 2, 3, 4, 5, 6, 7]\n",
    "array = [\"dog\", \"cat\", \"fish\"]\n",
    "printUnorderedPairs(array)"
   ]
  },
  {
   "cell_type": "code",
   "execution_count": null,
   "metadata": {},
   "outputs": [],
   "source": []
  }
 ],
 "metadata": {
  "kernelspec": {
   "display_name": "base",
   "language": "python",
   "name": "python3"
  },
  "language_info": {
   "codemirror_mode": {
    "name": "ipython",
    "version": 3
   },
   "file_extension": ".py",
   "mimetype": "text/x-python",
   "name": "python",
   "nbconvert_exporter": "python",
   "pygments_lexer": "ipython3",
   "version": "3.11.5"
  }
 },
 "nbformat": 4,
 "nbformat_minor": 2
}
