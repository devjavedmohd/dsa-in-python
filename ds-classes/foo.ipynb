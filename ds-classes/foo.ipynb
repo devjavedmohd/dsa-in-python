{
 "cells": [
  {
   "cell_type": "code",
   "execution_count": 3,
   "metadata": {},
   "outputs": [
    {
     "name": "stdout",
     "output_type": "stream",
     "text": [
      "Sum = 15 Product = 120\n"
     ]
    }
   ],
   "source": [
    "def foo(array):\n",
    "    sum = 0\n",
    "    product = 1\n",
    "\n",
    "    for i in array:\n",
    "        sum += i\n",
    "        product *= i\n",
    "\n",
    "    print(\"Sum = \" + str(sum) + \" Product = \" + str(product))\n",
    "\n",
    "\n",
    "array = [1, 2, 3, 4, 5]\n",
    "foo(array)\n"
   ]
  },
  {
   "cell_type": "code",
   "execution_count": 7,
   "metadata": {},
   "outputs": [
    {
     "name": "stdout",
     "output_type": "stream",
     "text": [
      "1,1\n",
      "1,2\n",
      "1,3\n",
      "1,4\n",
      "1,5\n",
      "2,1\n",
      "2,2\n",
      "2,3\n",
      "2,4\n",
      "2,5\n",
      "3,1\n",
      "3,2\n",
      "3,3\n",
      "3,4\n",
      "3,5\n",
      "4,1\n",
      "4,2\n",
      "4,3\n",
      "4,4\n",
      "4,5\n",
      "5,1\n",
      "5,2\n",
      "5,3\n",
      "5,4\n",
      "5,5\n"
     ]
    }
   ],
   "source": [
    "def printPairs(array):\n",
    "    for i in array:\n",
    "        for j in array:\n",
    "            print(str(i) + \",\" + str(j))\n",
    "printPairs([1,2,3,4,5])"
   ]
  },
  {
   "cell_type": "code",
   "execution_count": 13,
   "metadata": {},
   "outputs": [
    {
     "name": "stdout",
     "output_type": "stream",
     "text": [
      "dog, cat\n",
      "dog, fish\n",
      "cat, fish\n"
     ]
    }
   ],
   "source": [
    "def printUnorderedPairs(array):\n",
    "    for i in range(len(array)):\n",
    "        for j in range(i+1, len(array)):\n",
    "            print(array[i] + \", \" + array[j])\n",
    "# array = [1, 2, 3, 4, 5, 6, 7]\n",
    "array = [\"dog\", \"cat\", \"fish\"]\n",
    "printUnorderedPairs(array)"
   ]
  },
  {
   "cell_type": "code",
   "execution_count": 17,
   "metadata": {},
   "outputs": [
    {
     "name": "stdout",
     "output_type": "stream",
     "text": [
      "cde, lmn\n",
      "cde, fgh\n",
      "cde, rst\n",
      "opq, rst\n",
      "ijk, lmn\n",
      "ijk, rst\n"
     ]
    }
   ],
   "source": [
    "def printUnorderedPairs(arrayA, arrayB):\n",
    "    for i in range(len(arrayA)):\n",
    "        for j in range(len(arrayB)):\n",
    "            if arrayA[i] < arrayB[j]:\n",
    "                print(arrayA[i] + \", \" +  arrayB[j])\n",
    "\n",
    "\n",
    "arrayA = ['uvw', 'cde', 'opq', 'ijk']\n",
    "arrayB = ['lmn', 'fgh', 'rst', 'abc']\n",
    "\n",
    "result = printUnorderedPairs(arrayA, arrayB)"
   ]
  },
  {
   "cell_type": "code",
   "execution_count": 24,
   "metadata": {},
   "outputs": [
    {
     "name": "stdout",
     "output_type": "stream",
     "text": [
      "0\n",
      "uvw, lmn\n",
      "1\n",
      "uvw, lmn\n",
      "0\n",
      "uvw, fgh\n",
      "1\n",
      "uvw, fgh\n",
      "0\n",
      "uvw, rst\n",
      "1\n",
      "uvw, rst\n",
      "0\n",
      "uvw, abc\n",
      "1\n",
      "uvw, abc\n",
      "0\n",
      "cde, lmn\n",
      "1\n",
      "cde, lmn\n",
      "0\n",
      "cde, fgh\n",
      "1\n",
      "cde, fgh\n",
      "0\n",
      "cde, rst\n",
      "1\n",
      "cde, rst\n",
      "0\n",
      "cde, abc\n",
      "1\n",
      "cde, abc\n",
      "0\n",
      "opq, lmn\n",
      "1\n",
      "opq, lmn\n",
      "0\n",
      "opq, fgh\n",
      "1\n",
      "opq, fgh\n",
      "0\n",
      "opq, rst\n",
      "1\n",
      "opq, rst\n",
      "0\n",
      "opq, abc\n",
      "1\n",
      "opq, abc\n",
      "0\n",
      "ijk, lmn\n",
      "1\n",
      "ijk, lmn\n",
      "0\n",
      "ijk, fgh\n",
      "1\n",
      "ijk, fgh\n",
      "0\n",
      "ijk, rst\n",
      "1\n",
      "ijk, rst\n",
      "0\n",
      "ijk, abc\n",
      "1\n",
      "ijk, abc\n"
     ]
    }
   ],
   "source": [
    "def printUnorderedPairs(arrayA, arrayB):\n",
    "    for i in range(len(arrayA)):\n",
    "        for j in range(len(arrayB)):\n",
    "            for k in range(0, 2):\n",
    "                print(k)\n",
    "                print(str(arrayA[i]) + \", \" + arrayB[j])\n",
    "\n",
    "arrayA = ['uvw', 'cde', 'opq', 'ijk']\n",
    "arrayB = ['lmn', 'fgh', 'rst', 'abc']\n",
    "\n",
    "result = printUnorderedPairs(arrayA, arrayB)"
   ]
  },
  {
   "cell_type": "code",
   "execution_count": 25,
   "metadata": {},
   "outputs": [
    {
     "name": "stdout",
     "output_type": "stream",
     "text": [
      "[5, 4, 3, 2, 1]\n"
     ]
    }
   ],
   "source": [
    "def reverse(array):\n",
    "    for i in range(0, int(len(array)/2)):\n",
    "        other = len(array) - i - 1\n",
    "        temp = array[i]\n",
    "        array[i] = array[other]\n",
    "        array[other] = temp\n",
    "    print(array)\n",
    "\n",
    "\n",
    "reverse([1, 2, 3, 4, 5])\n"
   ]
  },
  {
   "cell_type": "code",
   "execution_count": 31,
   "metadata": {},
   "outputs": [
    {
     "data": {
      "text/plain": [
       "720"
      ]
     },
     "execution_count": 31,
     "metadata": {},
     "output_type": "execute_result"
    }
   ],
   "source": [
    "def factorial(n):\n",
    "    if n < 0:\n",
    "        return -1\n",
    "    elif n == 0:\n",
    "        return 1\n",
    "    else:\n",
    "        return n * factorial(n - 1)\n",
    "\n",
    "factorial(6)"
   ]
  },
  {
   "cell_type": "code",
   "execution_count": 32,
   "metadata": {},
   "outputs": [
    {
     "name": "stdout",
     "output_type": "stream",
     "text": [
      "0: 0\n",
      "1: 1\n",
      "2: 1\n",
      "3: 2\n",
      "4: 3\n",
      "5: 5\n",
      "6: 8\n",
      "7: 13\n",
      "8: 21\n",
      "9: 34\n"
     ]
    }
   ],
   "source": [
    "def allFib(n):\n",
    "    for i in range(n):\n",
    "        print(str(i) + \": \" + str(fib(i)))\n",
    "\n",
    "def fib(n):\n",
    "    if n <= 0:\n",
    "        return 0\n",
    "    elif n == 1:\n",
    "        return 1\n",
    "    else:\n",
    "        return fib(n-1) + fib(n-2)\n",
    "\n",
    "allFib(10)"
   ]
  },
  {
   "cell_type": "code",
   "execution_count": 37,
   "metadata": {},
   "outputs": [
    {
     "name": "stdout",
     "output_type": "stream",
     "text": [
      "2\n",
      "4\n",
      "8\n",
      "16\n",
      "32\n"
     ]
    },
    {
     "data": {
      "text/plain": [
       "32"
      ]
     },
     "execution_count": 37,
     "metadata": {},
     "output_type": "execute_result"
    }
   ],
   "source": [
    "def powerOf2(n):\n",
    "    if n < 1:\n",
    "        return 0\n",
    "    elif n == 1:\n",
    "        # print(1)\n",
    "        return 1\n",
    "    else:\n",
    "        prev = powerOf2(int(n/2))\n",
    "        curr = prev * 2\n",
    "        print(curr)\n",
    "        return curr\n",
    "\n",
    "powerOf2(50)\n"
   ]
  },
  {
   "cell_type": "code",
   "execution_count": null,
   "metadata": {},
   "outputs": [],
   "source": []
  }
 ],
 "metadata": {
  "kernelspec": {
   "display_name": "base",
   "language": "python",
   "name": "python3"
  },
  "language_info": {
   "codemirror_mode": {
    "name": "ipython",
    "version": 3
   },
   "file_extension": ".py",
   "mimetype": "text/x-python",
   "name": "python",
   "nbconvert_exporter": "python",
   "pygments_lexer": "ipython3",
   "version": "3.11.5"
  }
 },
 "nbformat": 4,
 "nbformat_minor": 2
}
