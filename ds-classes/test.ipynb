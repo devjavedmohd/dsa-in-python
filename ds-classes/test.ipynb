{
 "cells": [
  {
   "cell_type": "code",
   "execution_count": 1,
   "metadata": {},
   "outputs": [],
   "source": [
    "a = 4"
   ]
  },
  {
   "cell_type": "code",
   "execution_count": 2,
   "metadata": {},
   "outputs": [
    {
     "name": "stdout",
     "output_type": "stream",
     "text": [
      "4\n"
     ]
    }
   ],
   "source": [
    "print(a)"
   ]
  },
  {
   "cell_type": "code",
   "execution_count": 3,
   "metadata": {},
   "outputs": [
    {
     "data": {
      "text/plain": [
       "4"
      ]
     },
     "execution_count": 3,
     "metadata": {},
     "output_type": "execute_result"
    }
   ],
   "source": [
    "a"
   ]
  },
  {
   "cell_type": "code",
   "execution_count": 6,
   "metadata": {},
   "outputs": [
    {
     "name": "stdout",
     "output_type": "stream",
     "text": [
      "3 and (0, 'mango')\n",
      "3 and (1, 'banana')\n",
      "3 and (2, 'apple')\n",
      "3 and (3, 'gavava')\n",
      "Index: 0, Fruit: mango\n",
      "Index: 1, Fruit: banana\n",
      "Index: 2, Fruit: apple\n",
      "Index: 3, Fruit: gavava\n"
     ]
    }
   ],
   "source": [
    "fruits          = ['mango', 'banana', 'apple', 'gavava']\n",
    "\n",
    "for index in            enumerate(fruits):\n",
    "    print(f\"{item} and {index}\")\n",
    "    \n",
    "for index in range(len(fruits)):\n",
    "    print(f\"Index: {index}, Fruit: {fruits[index]}\")"
   ]
  },
  {
   "cell_type": "code",
   "execution_count": 10,
   "metadata": {},
   "outputs": [
    {
     "name": "stdout",
     "output_type": "stream",
     "text": [
      "{'alphabetics': 10, 'numerics': 3, 'whitespace': 2, 'puntuations': 1}\n"
     ]
    }
   ],
   "source": [
    "def number_of_characters(input_string):\n",
    "    alphabetics = 0\n",
    "    numerics = 0\n",
    "    whitespace = 0\n",
    "    puntuations = 0\n",
    "\n",
    "    for n in input_string:\n",
    "        if n.isalpha():\n",
    "            alphabetics += 1\n",
    "        elif n.isspace():\n",
    "            whitespace += 1\n",
    "        elif n.isdigit():\n",
    "            numerics += 1\n",
    "        else:\n",
    "            puntuations += 1\n",
    "\n",
    "    return {\n",
    "    'alphabetics': alphabetics,\n",
    "    'numerics': numerics,\n",
    "    'whitespace': whitespace,\n",
    "    'puntuations': puntuations\n",
    "    }\n",
    "\n",
    "result = number_of_characters('Hello World !123')\n",
    "print(result)\n"
   ]
  },
  {
   "cell_type": "code",
   "execution_count": 1,
   "metadata": {},
   "outputs": [
    {
     "ename": "ZeroDivisionError",
     "evalue": "division by zero",
     "output_type": "error",
     "traceback": [
      "\u001b[1;31m---------------------------------------------------------------------------\u001b[0m",
      "\u001b[1;31mZeroDivisionError\u001b[0m                         Traceback (most recent call last)",
      "Cell \u001b[1;32mIn[1], line 29\u001b[0m\n\u001b[0;32m     25\u001b[0m         median \u001b[38;5;241m=\u001b[39m (numbers[n \u001b[38;5;241m/\u001b[39m\u001b[38;5;241m/\u001b[39m \u001b[38;5;241m2\u001b[39m \u001b[38;5;241m-\u001b[39m \u001b[38;5;241m1\u001b[39m] \u001b[38;5;241m+\u001b[39m numbers[n \u001b[38;5;241m/\u001b[39m\u001b[38;5;241m/\u001b[39m \u001b[38;5;241m2\u001b[39m]) \u001b[38;5;241m/\u001b[39m \u001b[38;5;241m2\u001b[39m\n\u001b[0;32m     27\u001b[0m     \u001b[38;5;28;01mreturn\u001b[39;00m mean, median\n\u001b[1;32m---> 29\u001b[0m mean, median \u001b[38;5;241m=\u001b[39m mean_median()\n\u001b[0;32m     31\u001b[0m \u001b[38;5;28mprint\u001b[39m(\u001b[38;5;124m\"\u001b[39m\u001b[38;5;124mMean:\u001b[39m\u001b[38;5;124m\"\u001b[39m, mean)\n\u001b[0;32m     32\u001b[0m \u001b[38;5;28mprint\u001b[39m(\u001b[38;5;124m\"\u001b[39m\u001b[38;5;124mMedian:\u001b[39m\u001b[38;5;124m\"\u001b[39m, median)\n",
      "Cell \u001b[1;32mIn[1], line 17\u001b[0m, in \u001b[0;36mmean_median\u001b[1;34m()\u001b[0m\n\u001b[0;32m     12\u001b[0m         sum_numbers \u001b[38;5;241m+\u001b[39m\u001b[38;5;241m=\u001b[39m \u001b[38;5;28mfloat\u001b[39m(str_input)\n\u001b[0;32m     14\u001b[0m \u001b[38;5;66;03m# numbers.sort()  # Sort the list of numbers\u001b[39;00m\n\u001b[0;32m     15\u001b[0m \n\u001b[0;32m     16\u001b[0m \u001b[38;5;66;03m# Calculate mean\u001b[39;00m\n\u001b[1;32m---> 17\u001b[0m mean \u001b[38;5;241m=\u001b[39m sum_numbers \u001b[38;5;241m/\u001b[39m \u001b[38;5;28mlen\u001b[39m(numbers)\n\u001b[0;32m     19\u001b[0m \u001b[38;5;66;03m# Calculate median\u001b[39;00m\n\u001b[0;32m     20\u001b[0m n \u001b[38;5;241m=\u001b[39m \u001b[38;5;28mlen\u001b[39m(numbers)\n",
      "\u001b[1;31mZeroDivisionError\u001b[0m: division by zero"
     ]
    }
   ],
   "source": [
    "def mean_median():\n",
    "    numbers = []\n",
    "    str_input = None\n",
    "    sum_numbers = 0\n",
    "\n",
    "    # Collect input until an empty string is entered\n",
    "\n",
    "    while str_input != \"\":\n",
    "        str_input = input(\"Enter a number (press Enter to finish): \")\n",
    "        if str_input != \"\":\n",
    "            numbers.append(float(str_input))\n",
    "            sum_numbers += float(str_input)\n",
    "\n",
    "    # numbers.sort()  # Sort the list of numbers\n",
    "\n",
    "    # Calculate mean\n",
    "    mean = sum_numbers / len(numbers)\n",
    "\n",
    "    # Calculate median\n",
    "    n = len(numbers)\n",
    "\n",
    "    if n % 2 == 1:  # If the length of the list is odd\n",
    "        median = numbers[n // 2]\n",
    "    else:  # If the length of the list is even\n",
    "        median = (numbers[n // 2 - 1] + numbers[n // 2]) / 2\n",
    "\n",
    "    return mean, median\n",
    "\n",
    "mean, median = mean_median()\n",
    "\n",
    "print(\"Mean:\", mean)\n",
    "print(\"Median:\", median)\n"
   ]
  },
  {
   "cell_type": "code",
   "execution_count": 4,
   "metadata": {},
   "outputs": [
    {
     "name": "stdout",
     "output_type": "stream",
     "text": [
      "2\n"
     ]
    },
    {
     "ename": "TypeError",
     "evalue": "'<' not supported between instances of 'str' and 'int'",
     "output_type": "error",
     "traceback": [
      "\u001b[1;31m---------------------------------------------------------------------------\u001b[0m",
      "\u001b[1;31mTypeError\u001b[0m                                 Traceback (most recent call last)",
      "Cell \u001b[1;32mIn[4], line 24\u001b[0m\n\u001b[0;32m     20\u001b[0m             neg_num \u001b[38;5;241m+\u001b[39m\u001b[38;5;241m=\u001b[39m number\n\u001b[0;32m     22\u001b[0m     \u001b[38;5;28mprint\u001b[39m(\u001b[38;5;124m\"\u001b[39m\u001b[38;5;124mTotal sum:\u001b[39m\u001b[38;5;124m\"\u001b[39m, sum_num)\n\u001b[1;32m---> 24\u001b[0m reads_in_numbers()\n",
      "Cell \u001b[1;32mIn[4], line 19\u001b[0m, in \u001b[0;36mreads_in_numbers\u001b[1;34m()\u001b[0m\n\u001b[0;32m     17\u001b[0m     \u001b[38;5;28;01mif\u001b[39;00m number \u001b[38;5;241m>\u001b[39m \u001b[38;5;241m0\u001b[39m:\n\u001b[0;32m     18\u001b[0m         pos_num \u001b[38;5;241m+\u001b[39m\u001b[38;5;241m=\u001b[39m number\n\u001b[1;32m---> 19\u001b[0m     \u001b[38;5;28;01mif\u001b[39;00m nums_input \u001b[38;5;241m<\u001b[39m \u001b[38;5;241m0\u001b[39m:\n\u001b[0;32m     20\u001b[0m         neg_num \u001b[38;5;241m+\u001b[39m\u001b[38;5;241m=\u001b[39m number\n\u001b[0;32m     22\u001b[0m \u001b[38;5;28mprint\u001b[39m(\u001b[38;5;124m\"\u001b[39m\u001b[38;5;124mTotal sum:\u001b[39m\u001b[38;5;124m\"\u001b[39m, sum_num)\n",
      "\u001b[1;31mTypeError\u001b[0m: '<' not supported between instances of 'str' and 'int'"
     ]
    }
   ],
   "source": [
    "def  reads_in_numbers():\n",
    "    sum_num = 0\n",
    "    pos_num = 0\n",
    "    neg_num = 0\n",
    "    \n",
    "    while True:\n",
    "        nums_input = input('Enter numbers from keyboard: ')\n",
    "        \n",
    "        if nums_input == '':\n",
    "            break\n",
    "    \n",
    "        number = float(nums_input)\n",
    "        sum_num += number\n",
    "        \n",
    "        print(nums_input)\n",
    "        \n",
    "        if number > 0:\n",
    "            pos_num += number\n",
    "        if nums_input < 0:\n",
    "            neg_num += number\n",
    "\n",
    "    print(\"Total sum:\", sum_num)\n",
    "\n",
    "reads_in_numbers()"
   ]
  },
  {
   "cell_type": "code",
   "execution_count": null,
   "metadata": {},
   "outputs": [],
   "source": []
  },
  {
   "cell_type": "code",
   "execution_count": null,
   "metadata": {},
   "outputs": [],
   "source": []
  },
  {
   "cell_type": "code",
   "execution_count": null,
   "metadata": {},
   "outputs": [],
   "source": []
  },
  {
   "cell_type": "code",
   "execution_count": null,
   "metadata": {},
   "outputs": [],
   "source": []
  },
  {
   "cell_type": "code",
   "execution_count": 8,
   "metadata": {},
   "outputs": [
    {
     "name": "stdout",
     "output_type": "stream",
     "text": [
      "2\n",
      "5\n",
      "6\n",
      "1\n",
      "3\n",
      "-5\n",
      "-2\n",
      "-3\n",
      "Total sum: 7.0 17.0 -10.0\n"
     ]
    }
   ],
   "source": [
    "def  reads_in_numbers():\n",
    "    sum_num = 0\n",
    "    pos_num = 0\n",
    "    neg_num = 0\n",
    "    \n",
    "    while True:\n",
    "        nums_input = input('Enter numbers from keyboard: ')\n",
    "        \n",
    "        if nums_input == '':\n",
    "            break\n",
    "    \n",
    "        number = float(nums_input)\n",
    "        sum_num += number\n",
    "        \n",
    "        print(nums_input)\n",
    "        \n",
    "        if number > 0:\n",
    "            pos_num += number\n",
    "        if number < 0:\n",
    "            neg_num += number\n",
    "\n",
    "    print(\"Total sum:\", sum_num, pos_num, neg_num)\n",
    "\n",
    "reads_in_numbers()"
   ]
  },
  {
   "cell_type": "code",
   "execution_count": 3,
   "metadata": {},
   "outputs": [
    {
     "name": "stdout",
     "output_type": "stream",
     "text": [
      "115.28085465505536\n"
     ]
    },
    {
     "ename": "",
     "evalue": "",
     "output_type": "error",
     "traceback": [
      "\u001b[1;31mThe Kernel crashed while executing code in the current cell or a previous cell. \n",
      "\u001b[1;31mPlease review the code in the cell(s) to identify a possible cause of the failure. \n",
      "\u001b[1;31mClick <a href='https://aka.ms/vscodeJupyterKernelCrash'>here</a> for more info. \n",
      "\u001b[1;31mView Jupyter <a href='command:jupyter.viewOutput'>log</a> for further details."
     ]
    }
   ],
   "source": [
    "class StockQuotes:\n",
    "    def __init__(self, quotes):\n",
    "        # Sort the list of quotes based on the stock symbol\n",
    "        sorted_quotes = sorted(quotes, key=lambda x: x[0])\n",
    "        # Store it as a tuple in the instance\n",
    "        self.quotes = tuple(sorted_quotes)\n",
    "    def __str__(self):\n",
    "        # Convert each quote into a string and join with newline characters\n",
    "        return \"\\n\".join([f\"({q[0]}, {q[1]})\" for q in self.quotes])\n",
    "    def getRMS(self):\n",
    "        n = len(self.quotes)\n",
    "        if n == 0:\n",
    "            return 0  # Edge case if no quotes are available\n",
    "        # Calculate the RMS using the given formula\n",
    "        total = sum([q[1]**2 for q in self.quotes])\n",
    "        rms = (total / n) ** 0.5\n",
    "        return rms\n",
    "\n",
    "sq=StockQuotes([('IBM', 159.03), ('AZN', 35.9)])\n",
    "print(sq.getRMS())"
   ]
  },
  {
   "cell_type": "code",
   "execution_count": null,
   "metadata": {},
   "outputs": [],
   "source": []
  }
 ],
 "metadata": {
  "kernelspec": {
   "display_name": "base",
   "language": "python",
   "name": "python3"
  },
  "language_info": {
   "codemirror_mode": {
    "name": "ipython",
    "version": 3
   },
   "file_extension": ".py",
   "mimetype": "text/x-python",
   "name": "python",
   "nbconvert_exporter": "python",
   "pygments_lexer": "ipython3",
   "version": "3.11.5"
  }
 },
 "nbformat": 4,
 "nbformat_minor": 2
}
